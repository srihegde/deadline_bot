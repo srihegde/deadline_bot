{
 "cells": [
  {
   "cell_type": "code",
   "execution_count": null,
   "metadata": {},
   "outputs": [],
   "source": [
    "import tweepy as tpy\n",
    "import json\n",
    "import csv\n",
    "from datetime import datetime\n",
    "from typing import Tuple, Dict\n",
    "\n",
    "# Authentication tokens\n",
    "with open('keys.json') as f:\n",
    "    acnts = json.load(f)\n",
    "    dev = acnts['dev']\n",
    "    bot1 = acnts['bot1']\n",
    "\n",
    "consumer_key = dev['CONSUMER_KEY']\n",
    "consumer_secret = dev['CONSUMER_SECRET']\n",
    "\n",
    "oauth1_user_handler = tpy.OAuth1UserHandler(\n",
    "    consumer_key=consumer_key, consumer_secret=consumer_secret,\n",
    "    callback='https://twitter.com')\n",
    "\n",
    "# The following link will ask you to authorize the app to use your account.\n",
    "# Authorize and then you will be redirected to twitter.com with an oauth_verifier \n",
    "# field in the URL. Pass that in the prompt of the next cell.\n",
    "print(oauth1_user_handler.get_authorization_url(signin_with_twitter=True))"
   ]
  },
  {
   "cell_type": "code",
   "execution_count": 41,
   "metadata": {},
   "outputs": [],
   "source": [
    "verifier = input('Verifier: ')\n",
    "bot1_access_token, bot1_access_token_secret = oauth1_user_handler.get_access_token(verifier)\n",
    "\n",
    "# Update bot account keys if updated\n",
    "acnts['bot1']['ACCESS_TOKEN'] = bot1_access_token\n",
    "acnts['bot1']['ACCESS_TOKEN_SECRET'] = bot1_access_token_secret\n",
    "with open('keys.json', 'w') as f:\n",
    "    json.dump(acnts, f)\n",
    "\n",
    "# Authenticate to Twitter with the bot account\n",
    "client = tpy.Client(consumer_key=consumer_key,\n",
    "                    consumer_secret=consumer_secret,\n",
    "                    access_token=bot1_access_token,\n",
    "                    access_token_secret=bot1_access_token_secret)"
   ]
  },
  {
   "cell_type": "code",
   "execution_count": null,
   "metadata": {},
   "outputs": [],
   "source": [
    "# Test if the bot can post a tweet\n",
    "cres = client.create_tweet(text=\"Hello, world! Countdown begins soon!\")"
   ]
  }
 ],
 "metadata": {
  "kernelspec": {
   "display_name": "dlbot",
   "language": "python",
   "name": "python3"
  },
  "language_info": {
   "codemirror_mode": {
    "name": "ipython",
    "version": 3
   },
   "file_extension": ".py",
   "mimetype": "text/x-python",
   "name": "python",
   "nbconvert_exporter": "python",
   "pygments_lexer": "ipython3",
   "version": "3.12.0"
  }
 },
 "nbformat": 4,
 "nbformat_minor": 2
}
